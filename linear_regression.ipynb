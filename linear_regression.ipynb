{
 "cells": [
  {
   "cell_type": "code",
   "execution_count": 1,
   "id": "c732b202-aa57-4cbd-a4bf-cbaca2517838",
   "metadata": {},
   "outputs": [],
   "source": [
    "import pandas as pd \n",
    "import numpy as np \n",
    "import sklearn\n",
    "from sklearn import linear_model\n",
    "from sklearn.utils import shuffle\n",
    "import matplotlib.pyplot as pyplot"
   ]
  },
  {
   "cell_type": "code",
   "execution_count": 2,
   "id": "c79c68ac-b3c8-487d-a405-43eac62f1f35",
   "metadata": {},
   "outputs": [],
   "source": [
    "data = pd.read_csv(\"student-mat.csv\", sep=\";\")"
   ]
  },
  {
   "cell_type": "code",
   "execution_count": 10,
   "id": "a4331be4-a0f6-4200-9566-1674db688906",
   "metadata": {},
   "outputs": [],
   "source": [
    "data = data[[\"G1\",\"G2\",\"G3\",\"studytime\",\"failures\",\"absences\"]]"
   ]
  },
  {
   "cell_type": "code",
   "execution_count": 11,
   "id": "b5825148-e2c2-46a8-966b-6b36f288419f",
   "metadata": {},
   "outputs": [],
   "source": [
    "predict = \"G3\""
   ]
  },
  {
   "cell_type": "code",
   "execution_count": 12,
   "id": "618b2d8f-924d-4d16-80e5-9390a0ebc7f3",
   "metadata": {},
   "outputs": [],
   "source": [
    "X = np.array(data.drop([predict], 1))\n",
    "Y = np.array(data[predict])"
   ]
  },
  {
   "cell_type": "code",
   "execution_count": 54,
   "id": "f4c3f36a-8772-4bed-8a8b-2fd6e9934a51",
   "metadata": {},
   "outputs": [],
   "source": [
    "x_train, x_test, y_train, y_test = sklearn.model_selection.train_test_split(X,Y,test_size = 0.1)"
   ]
  },
  {
   "cell_type": "code",
   "execution_count": 55,
   "id": "2cd42ec1-092f-46b7-8c29-12efea438244",
   "metadata": {},
   "outputs": [
    {
     "name": "stdout",
     "output_type": "stream",
     "text": [
      "0.8722206496436967\n"
     ]
    }
   ],
   "source": [
    "linear = linear_model.LinearRegression()\n",
    "\n",
    "linear.fit(x_train, y_train)\n",
    "acc = linear.score(x_test, y_test)\n",
    "print(acc)"
   ]
  },
  {
   "cell_type": "code",
   "execution_count": 56,
   "id": "2519da18-849d-4237-9339-a5b905dd577c",
   "metadata": {},
   "outputs": [
    {
     "name": "stdout",
     "output_type": "stream",
     "text": [
      "Coefficient: \n",
      " [ 0.17144707  0.96808759 -0.16808823 -0.12491633  0.03674041]\n",
      "Intercept: \n",
      " -1.694658125577277\n"
     ]
    }
   ],
   "source": [
    "print(\"Coefficient: \\n\", linear.coef_)\n",
    "print(\"Intercept: \\n\", linear.intercept_)"
   ]
  },
  {
   "cell_type": "code",
   "execution_count": 57,
   "id": "11456e42-2609-49a3-b3c5-89ad2f2c3312",
   "metadata": {},
   "outputs": [
    {
     "name": "stdout",
     "output_type": "stream",
     "text": [
      "18.725717213461298 [19 18  2  0  2] 18\n",
      "-1.0021521656536683 [6 0 2 0 0] 0\n",
      "11.12588130114784 [ 8 12  1  0  0] 12\n",
      "6.33779757463042 [8 7 2 0 6] 9\n",
      "13.803557833770585 [13 14  3  0  6] 14\n",
      "14.241059386714225 [15 14  2  0  4] 14\n",
      "5.894472537689715 [7 7 2 1 2] 7\n",
      "11.83953838295252 [11 12  2  0 10] 13\n",
      "10.651008330722686 [11 11  2  0  4] 11\n",
      "9.021617886897017 [ 8 10  2  0  0] 12\n",
      "18.365055319538428 [18 18  4  0  6] 18\n",
      "8.613508059536047 [9 9 1 0 6] 10\n",
      "12.513702692602326 [11 13  2  0  2] 14\n",
      "14.79277201616015 [13 15  2  0  2] 16\n",
      "6.224217505425361 [7 7 1 0 3] 8\n",
      "12.611668942888555 [12 13  2  0  0] 14\n",
      "15.935665516591257 [15 16  3  0  2] 18\n",
      "12.856596833911933 [13 13  2  0  2] 11\n",
      "9.53595909886143 [11 10  2  0  0] 10\n",
      "18.496403141356748 [18 18  3  0  5] 19\n",
      "18.47743048378572 [17 18  1  0  0] 18\n",
      "12.583824674318706 [10 13  1  0  4] 14\n",
      "9.364512028206624 [10 10  2  0  0] 10\n",
      "9.008756429948773 [11  9  2  0 12] 9\n",
      "8.850170816242214 [ 7 10  2  0  0] 11\n",
      "11.847803517269734 [14 11  1  0 18] 13\n",
      "18.13789518112831 [16 18  2  0  0] 18\n",
      "12.717924858107613 [13 12  1  0 20] 12\n",
      "18.48414816109011 [19 18  3  0  0] 19\n",
      "15.58542269068003 [16 15  1  0  5] 16\n",
      "12.68514976325713 [12 13  2  0  2] 13\n",
      "10.846940831295143 [13 11  2  0  0] 10\n",
      "15.03769990718353 [14 15  2  0  4] 15\n",
      "8.224977366427712 [9 9 2 0 0] 10\n",
      "12.791381147860573 [16 12  1  0  8] 13\n",
      "5.399711995568836 [6 7 2 3 0] 0\n",
      "10.066545137041896 [ 9 11  3  0  2] 11\n",
      "9.511473668943776 [10 10  2  0  4] 10\n",
      "4.89607603265089 [7 6 1 2 0] 0\n",
      "9.4379928485752 [10 10  2  0  2] 11\n"
     ]
    }
   ],
   "source": [
    "predictions = linear.predict(x_test)\n",
    "\n",
    "for x in range(len(predictions)):\n",
    "    print(predictions[x], x_test[x], y_test[x])"
   ]
  },
  {
   "cell_type": "code",
   "execution_count": 58,
   "id": "4ed67719-6d5f-424a-89f7-85214d9218a0",
   "metadata": {},
   "outputs": [],
   "source": [
    "import pickle"
   ]
  },
  {
   "cell_type": "code",
   "execution_count": 59,
   "id": "bb6f1453-610b-4ac2-897f-ed9b0df103b8",
   "metadata": {},
   "outputs": [],
   "source": [
    "from matplotlib import style"
   ]
  },
  {
   "cell_type": "code",
   "execution_count": 62,
   "id": "5373b845-5529-4314-a113-acd4149839cd",
   "metadata": {},
   "outputs": [],
   "source": [
    "with open(\"studentmodel.pickle\", \"wb\") as f:\n",
    "    pickle.dump(linear, f)"
   ]
  },
  {
   "cell_type": "code",
   "execution_count": 64,
   "id": "ff1b56e4-a23b-4548-a454-24de3d93e044",
   "metadata": {},
   "outputs": [],
   "source": [
    "pickle_in = open(\"studentmodel.pickle\", \"rb\")\n",
    "linear = pickle.load(pickle_in)"
   ]
  },
  {
   "cell_type": "code",
   "execution_count": 65,
   "id": "45d825cc-f168-45d3-abec-b8656c9e5b4f",
   "metadata": {},
   "outputs": [
    {
     "name": "stdout",
     "output_type": "stream",
     "text": [
      "0.7766747561651348\n",
      "0.7966057486041402\n",
      "0.8313686859421047\n",
      "0.8036715255601925\n",
      "0.7604593824278587\n",
      "0.8403076467933266\n",
      "0.8688086449384029\n",
      "0.7771443974653304\n",
      "0.7451813311449175\n",
      "0.8283049949940595\n",
      "0.8303604945448324\n",
      "0.8806756643714982\n",
      "0.6821089185133089\n",
      "0.8558602596801899\n",
      "0.8239848971464003\n",
      "0.8169286820471506\n",
      "0.7887093324255483\n",
      "0.8131274073218382\n",
      "0.8984721276969335\n",
      "0.7488835451040949\n",
      "0.8958641047055774\n",
      "0.8291290227676432\n",
      "0.9228563693819594\n",
      "0.8276907564654009\n",
      "0.9423164603472803\n",
      "0.8334707660619375\n",
      "0.8150174234009607\n",
      "0.8368547187524228\n",
      "0.7605538125506908\n",
      "0.849755713881248\n"
     ]
    }
   ],
   "source": [
    "best = 0\n",
    "for _ in range(30):\n",
    "\t#now we'll split the above two arrays in 2, one for trainig and the other for testing the model\n",
    "\tx_train, x_test, y_train, y_test = sklearn.model_selection.train_test_split(X,Y,test_size = 0.1)\n",
    "\n",
    "\tlinear = linear_model.LinearRegression()\n",
    "\n",
    "\tlinear.fit(x_train, y_train)\n",
    "\tacc = linear.score(x_test, y_test)\n",
    "\tprint(acc)\n",
    "\n",
    "\tif acc > best: #we will write to the file if a better line accuracy is found\n",
    "\t\t#Saving the trained model to use for future data sets\n",
    "\t\tbest = acc \n",
    "\t\twith open(\"studentmodel.pickle\", \"wb\") as f:\n",
    "\t\t\tpickle.dump(linear, f)"
   ]
  },
  {
   "cell_type": "code",
   "execution_count": 66,
   "id": "9e637d38-d9c9-4a8f-94db-008b2341a044",
   "metadata": {},
   "outputs": [],
   "source": [
    "pickle_in = open(\"studentmodel.pickle\", \"rb\")\n",
    "linear = pickle.load(pickle_in)"
   ]
  },
  {
   "cell_type": "code",
   "execution_count": 67,
   "id": "ae140b16-435a-4ab2-809a-f7ce0b47f53f",
   "metadata": {},
   "outputs": [
    {
     "data": {
      "image/png": "[encoded data removed]",
      "text/plain": [
       "<Figure size 432x288 with 1 Axes>"
      ]
     },
     "metadata": {},
     "output_type": "display_data"
    }
   ],
   "source": [
    "p = \"G1\"\n",
    "style.use(\"ggplot\")\n",
    "pyplot.scatter(data[p],data[\"G3\"])\n",
    "pyplot.xlabel(p)\n",
    "pyplot.ylabel(\"Final Grade\")\n",
    "pyplot.show()"
   ]
  },
  {
   "cell_type": "code",
   "execution_count": null,
   "id": "e8fb863f-6e5e-42f2-a4be-7de3a0eb3985",
   "metadata": {},
   "outputs": [],
   "source": []
  }
 ],
 "metadata": {
  "kernelspec": {
   "display_name": "Python 3",
   "language": "python",
   "name": "python3"
  },
  "language_info": {
   "codemirror_mode": {
    "name": "ipython",
    "version": 3
   },
   "file_extension": ".py",
   "mimetype": "text/x-python",
   "name": "python",
   "nbconvert_exporter": "python",
   "pygments_lexer": "ipython3",
   "version": "3.8.8"
  }
 },
 "nbformat": 4,
 "nbformat_minor": 5
}
